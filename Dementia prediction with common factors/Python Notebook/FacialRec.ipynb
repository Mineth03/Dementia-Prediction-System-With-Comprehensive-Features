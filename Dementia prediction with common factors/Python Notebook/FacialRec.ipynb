{
  "cells": [
    {
      "cell_type": "markdown",
      "metadata": {
        "colab_type": "text",
        "id": "view-in-github"
      },
      "source": [
        "<a href=\"https://colab.research.google.com/github/Mineth03/Dementia-Prediction-System-With-Comprehensive-Features/blob/Basic_Dementia_Prediction/Dementia%20prediction%20with%20common%20factors/Python%20Notebook/FacialRec.ipynb\" target=\"_parent\"><img src=\"https://colab.research.google.com/assets/colab-badge.svg\" alt=\"Open In Colab\"/></a>"
      ]
    },
    {
      "cell_type": "code",
      "execution_count": null,
      "metadata": {
        "colab": {
          "base_uri": "https://localhost:8080/"
        },
        "id": "wXMHAE647l3b",
        "outputId": "cda5f199-8b24-49ac-e758-d541be15a58c"
      },
      "outputs": [
        {
          "name": "stderr",
          "output_type": "stream",
          "text": [
            "WARNING:absl:Compiled the loaded model, but the compiled metrics have yet to be built. `model.compile_metrics` will be empty until you train or evaluate the model.\n",
            "WARNING:absl:Error in loading the saved optimizer state. As a result, your model is starting with a freshly initialized optimizer.\n"
          ]
        },
        {
          "name": "stdout",
          "output_type": "stream",
          "text": [
            "\u001b[1m1/1\u001b[0m \u001b[32m━━━━━━━━━━━━━━━━━━━━\u001b[0m\u001b[37m\u001b[0m \u001b[1m1s\u001b[0m 597ms/step\n",
            "Angry: 0.1350\n",
            "Disgust: 0.0159\n",
            "Fear: 0.1608\n",
            "Happy: 0.3072\n",
            "Sad: 0.1515\n",
            "Surprise: 0.1746\n",
            "Neutral: 0.0550\n",
            "\n",
            "Depression Risk Score: 0.0107\n",
            "Risk Category: Low Depression Risk\n"
          ]
        }
      ],
      "source": [
        "import tensorflow as tf\n",
        "from tensorflow.keras.models import load_model\n",
        "import cv2\n",
        "import numpy as np\n",
        "\n",
        "# Load the pretrained model\n",
        "model_path = 'model.h5'  # Adjust the path\n",
        "model = load_model(model_path)\n",
        "\n",
        "# Load OpenCV's pre-trained face detection model\n",
        "face_cascade = cv2.CascadeClassifier(cv2.data.haarcascades + 'haarcascade_frontalface_default.xml')\n",
        "\n",
        "# Define emotion labels\n",
        "emotion_labels = ['Angry', 'Disgust', 'Fear', 'Happy', 'Sad', 'Surprise', 'Neutral']\n",
        "\n",
        "# Depression weight mapping\n",
        "depression_weights = {\n",
        "    'Angry': 0.2,\n",
        "    'Fear': 0.3,\n",
        "    'Sad': 0.5,\n",
        "    'Happy': -0.4,\n",
        "    'Surprise': -0.1,\n",
        "    'Disgust': 0.0,  # Optional, not strongly linked\n",
        "    'Neutral': 0.0   # Neutral emotions ignored\n",
        "}\n",
        "\n",
        "# Function to detect faces in an image\n",
        "def detect_face(image_path):\n",
        "    image = cv2.imread(image_path)\n",
        "    gray = cv2.cvtColor(image, cv2.COLOR_BGR2GRAY)  # Convert to grayscale\n",
        "    faces = face_cascade.detectMultiScale(gray, scaleFactor=1.1, minNeighbors=5, minSize=(30, 30))\n",
        "\n",
        "    if len(faces) == 0:\n",
        "        return None, \"Error: No face detected in the image.\"\n",
        "\n",
        "    return gray, None\n",
        "\n",
        "# Function to preprocess the input image\n",
        "def preprocess_image(image):\n",
        "    image = cv2.resize(image, (48, 48))  # Resize to model's input shape\n",
        "    image = image / 255.0  # Normalize\n",
        "    image = np.expand_dims(image, axis=0)  # Add batch dimension\n",
        "    image = np.expand_dims(image, axis=-1)  # Add channel dimension\n",
        "    return image\n",
        "\n",
        "# Function to calculate depression risk score\n",
        "def calculate_depression_risk(predictions):\n",
        "    drs = sum(depression_weights[label] * score for label, score in zip(emotion_labels, predictions))\n",
        "    drs = max(0, min(drs, 1))  # Ensure value is between 0 and 1\n",
        "\n",
        "    # Classify depression risk\n",
        "    if drs < 0.3:\n",
        "        risk_level = \"Low Depression Risk\"\n",
        "    elif drs < 0.6:\n",
        "        risk_level = \"Moderate Depression Risk\"\n",
        "    else:\n",
        "        risk_level = \"High Depression Risk\"\n",
        "\n",
        "    return drs, risk_level\n",
        "\n",
        "# Example usage\n",
        "image_path = 'test.jpg'\n",
        "gray_image, error_msg = detect_face(image_path)\n",
        "\n",
        "if error_msg:\n",
        "    print(error_msg)\n",
        "else:\n",
        "    processed_image = preprocess_image(gray_image)\n",
        "    predictions = model.predict(processed_image)[0]  # Get prediction scores\n",
        "\n",
        "    # Display scores\n",
        "    for label, score in zip(emotion_labels, predictions):\n",
        "        print(f\"{label}: {score:.4f}\")\n",
        "\n",
        "    # Compute and display depression level\n",
        "    depression_score, risk_category = calculate_depression_risk(predictions)\n",
        "    print(f\"\\nDepression Risk Score: {depression_score:.4f}\")\n",
        "    print(f\"Risk Category: {risk_category}\")\n"
      ]
    },
    {
      "cell_type": "code",
      "execution_count": null,
      "metadata": {
        "id": "z4QwG-TlF5y2"
      },
      "outputs": [],
      "source": []
    }
  ],
  "metadata": {
    "colab": {
      "authorship_tag": "ABX9TyNXRSaC7QiD8SPRhzSu5VRs",
      "include_colab_link": true,
      "provenance": []
    },
    "kernelspec": {
      "display_name": "Python 3",
      "name": "python3"
    },
    "language_info": {
      "name": "python"
    }
  },
  "nbformat": 4,
  "nbformat_minor": 0
}
