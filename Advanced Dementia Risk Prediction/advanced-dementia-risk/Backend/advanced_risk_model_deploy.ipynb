{
 "cells": [
  {
   "cell_type": "code",
   "execution_count": 2,
   "id": "6436ae0c7882687e",
   "metadata": {},
   "outputs": [],
   "source": [
    "import pandas as pd\n",
    "import pickle\n",
    "from sklearn.ensemble import RandomForestClassifier\n",
    "from sklearn.model_selection import train_test_split\n",
    "from sklearn.preprocessing import LabelEncoder\n",
    "\n",
    "# Load dataset\n",
    "df = pd.read_csv(\"Form - To predict current risk-dementia_patients_dataset (imbalanced).csv\")\n",
    "\n",
    "# Handle missing values (if any)\n",
    "df.fillna(df.median(), inplace=True)\n",
    "\n",
    "# Encode categorical target variable if needed\n",
    "le = LabelEncoder()\n",
    "df[\"RISK_Y\"] = le.fit_transform(df[\"RISK_Y\"])\n",
    "\n",
    "# Ensure all features are numeric\n",
    "X = pd.get_dummies(df.drop(columns=[\"RISK_Y\"]))  # One-hot encode categorical features if present\n",
    "y = df[\"RISK_Y\"]\n",
    "\n",
    "# Train-test split\n",
    "X_train, X_test, y_train, y_test = train_test_split(X, y, test_size=0.2, random_state=42)\n",
    "\n",
    "# Train the RF model\n",
    "rf_model = RandomForestClassifier(random_state=42)\n",
    "rf_model.fit(X_train, y_train)\n",
    "\n",
    "# Save the model\n",
    "with open(\"rf_model.pkl\", \"wb\") as f:\n",
    "    pickle.dump(rf_model, f)"
   ]
  },
  {
   "cell_type": "code",
   "id": "97a0126d7767da7f",
   "metadata": {
    "ExecuteTime": {
     "end_time": "2025-03-23T17:04:48.525053Z",
     "start_time": "2025-03-23T17:04:30.221591Z"
    }
   },
   "source": [
    "import pickle\n",
    "import joblib\n",
    "\n",
    "# Load the existing pickle model\n",
    "with open(\"rf_model.pkl\", \"rb\") as f:\n",
    "    model = pickle.load(f)\n",
    "\n",
    "# Save the model in joblib format\n",
    "joblib.dump(model, \"rf_model.joblib\")\n",
    "\n",
    "print(\"Model converted from pickle to joblib successfully!\")\n",
    "\n"
   ],
   "outputs": [
    {
     "name": "stdout",
     "output_type": "stream",
     "text": [
      "Model converted from pickle to joblib successfully!\n"
     ]
    }
   ],
   "execution_count": 1
  },
  {
   "metadata": {
    "ExecuteTime": {
     "end_time": "2025-03-28T05:17:37.356081Z",
     "start_time": "2025-03-28T05:17:16.742926Z"
    }
   },
   "cell_type": "code",
   "source": [
    "import pandas as pd\n",
    "import joblib\n",
    "from sklearn.model_selection import train_test_split\n",
    "from sklearn.ensemble import RandomForestClassifier\n",
    "\n",
    "# Load dataset\n",
    "df = pd.read_csv(\"balanced_file2.csv\")\n",
    "\n",
    "# Define features and target\n",
    "X = df.drop(columns=[\"RISK_Y\"])  # Replace with your actual target column name\n",
    "y = df[\"RISK_Y\"]\n",
    "\n",
    "# Split data\n",
    "X_train, X_test, y_train, y_test = train_test_split(X, y, test_size=0.2, random_state=42)\n",
    "\n",
    "# Train model\n",
    "rf_model = RandomForestClassifier(n_estimators=100, random_state=42)\n",
    "rf_model.fit(X_train, y_train)\n",
    "\n",
    "# Save model\n",
    "joblib.dump(rf_model, \"dem_sev_model.pkl\")\n",
    "\n",
    "print(\"Model trained and saved successfully!\")\n"
   ],
   "id": "822581383bf40049",
   "outputs": [
    {
     "name": "stdout",
     "output_type": "stream",
     "text": [
      "Model trained and saved successfully!\n"
     ]
    }
   ],
   "execution_count": 3
  }
 ],
 "metadata": {
  "kernelspec": {
   "display_name": "Python 3",
   "language": "python",
   "name": "python3"
  },
  "language_info": {
   "codemirror_mode": {
    "name": "ipython",
    "version": 3
   },
   "file_extension": ".py",
   "mimetype": "text/x-python",
   "name": "python",
   "nbconvert_exporter": "python",
   "pygments_lexer": "ipython3",
   "version": "3.12.1"
  }
 },
 "nbformat": 4,
 "nbformat_minor": 5
}
