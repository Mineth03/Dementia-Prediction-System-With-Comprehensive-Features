{
  "nbformat": 4,
  "nbformat_minor": 0,
  "metadata": {
    "colab": {
      "provenance": [],
      "authorship_tag": "ABX9TyMFrk2I+V3ulALyWGL5OR7Y",
      "include_colab_link": true
    },
    "kernelspec": {
      "name": "python3",
      "display_name": "Python 3"
    },
    "language_info": {
      "name": "python"
    }
  },
  "cells": [
    {
      "cell_type": "markdown",
      "metadata": {
        "id": "view-in-github",
        "colab_type": "text"
      },
      "source": [
        "<a href=\"https://colab.research.google.com/github/Mineth03/Dementia-Prediction-System-With-Comprehensive-Features/blob/Basic_Dementia_Prediction/FacialDetection.ipynb\" target=\"_parent\"><img src=\"https://colab.research.google.com/assets/colab-badge.svg\" alt=\"Open In Colab\"/></a>"
      ]
    },
    {
      "cell_type": "code",
      "execution_count": 10,
      "metadata": {
        "colab": {
          "base_uri": "https://localhost:8080/"
        },
        "id": "wXMHAE647l3b",
        "outputId": "b1c606fb-9e11-4200-b56d-94795c324a0b"
      },
      "outputs": [
        {
          "output_type": "stream",
          "name": "stderr",
          "text": [
            "WARNING:absl:Compiled the loaded model, but the compiled metrics have yet to be built. `model.compile_metrics` will be empty until you train or evaluate the model.\n",
            "WARNING:absl:Error in loading the saved optimizer state. As a result, your model is starting with a freshly initialized optimizer.\n"
          ]
        },
        {
          "output_type": "stream",
          "name": "stdout",
          "text": [
            "\u001b[1m1/1\u001b[0m \u001b[32m━━━━━━━━━━━━━━━━━━━━\u001b[0m\u001b[37m\u001b[0m \u001b[1m0s\u001b[0m 248ms/step\n",
            "Predicted Emotion: Sad\n"
          ]
        }
      ],
      "source": [
        "import tensorflow as tf\n",
        "from tensorflow.keras.models import load_model\n",
        "import cv2\n",
        "import numpy as np\n",
        "\n",
        "# Load the pretrained model\n",
        "model_path = 'face_model.h5'  # Adjust the path\n",
        "model = load_model(model_path)\n",
        "\n",
        "# Define emotion labels (if provided)\n",
        "emotion_labels = ['Angry', 'Disgust', 'Fear', 'Happy', 'Sad', 'Surprise', 'Neutral']\n",
        "\n",
        "# Function to preprocess the input image\n",
        "def preprocess_image(image_path):\n",
        "    image = cv2.imread(image_path, cv2.IMREAD_GRAYSCALE)  # Read image in grayscale\n",
        "    image = cv2.resize(image, (48, 48))  # Resize to model's input shape\n",
        "    image = image.astype('float32') / 255.0  # Normalize to [0, 1]\n",
        "    image = np.expand_dims(image, axis=0)  # Add batch dimension\n",
        "    image = np.expand_dims(image, axis=-1)  # Add channel dimension\n",
        "    return image\n",
        "\n",
        "# Example usage\n",
        "image_path = 'test.jpeg'\n",
        "processed_image = preprocess_image(image_path)\n",
        "predictions = model.predict(processed_image)\n",
        "emotion_index = np.argmax(predictions)\n",
        "predicted_emotion = emotion_labels[emotion_index]\n",
        "\n",
        "print(f\"Predicted Emotion: {predicted_emotion}\")\n"
      ]
    }
  ]
}